{
 "cells": [
  {
   "cell_type": "markdown",
   "metadata": {},
   "source": [
    "Must run \n",
    "**conda config --add channels conda-forge**\n",
    "to install geopy with conda"
   ]
  },
  {
   "cell_type": "code",
   "execution_count": 10,
   "metadata": {},
   "outputs": [
    {
     "name": "stdout",
     "output_type": "stream",
     "text": [
      "0.5503161731620815\n"
     ]
    }
   ],
   "source": [
    "from geopy.distance import distance\n",
    "\n",
    "coords1 = (38.898556, -77.037852)\n",
    "coords2 = (38.897147, -77.043934)\n",
    "\n",
    "print(distance(coords1, coords2).km)"
   ]
  },
  {
   "cell_type": "code",
   "execution_count": 11,
   "metadata": {},
   "outputs": [],
   "source": [
    "import geopandas as gpd\n",
    "\n",
    "file = '/home/conor/Projects/D4D/connor_2020-02-10T13_39_00-07_00.geojson'"
   ]
  },
  {
   "cell_type": "code",
   "execution_count": 43,
   "metadata": {},
   "outputs": [
    {
     "name": "stdout",
     "output_type": "stream",
     "text": [
      "     lattitude  longitude               coordinates\n",
      "0    33.067117  41.830984   (33.067117, 41.8309845)\n",
      "1    33.065261  41.833251  (33.0652614, 41.8332511)\n",
      "2    32.763708  42.054792   (32.763708, 42.0547923)\n",
      "3    32.412406  42.699551  (32.4124063, 42.6995507)\n",
      "4    32.414121  42.505461  (32.4141211, 42.5054609)\n",
      "..         ...        ...                       ...\n",
      "446  32.869819  42.148843  (32.8698194, 42.1488435)\n",
      "447  32.805533  42.342705  (32.8055327, 42.3427052)\n",
      "448  32.312350  42.443634  (32.3123504, 42.4436342)\n",
      "449  32.711225  42.416779  (32.7112249, 42.4167789)\n",
      "450  32.629386  42.466140   (32.629386, 42.4661402)\n",
      "\n",
      "[451 rows x 3 columns]\n"
     ]
    }
   ],
   "source": [
    "df = gpd.read_file(file)\n",
    "\n",
    "def f_lat(x):\n",
    "    b = x.bounds\n",
    "    return b[1]\n",
    "\n",
    "def f_lon(x):\n",
    "    b = x.bounds\n",
    "    return b[0]\n",
    "\n",
    "def f_coords(x):\n",
    "    b = x.bounds\n",
    "    return (b[1], b[0])\n",
    "\n",
    "df['lattitude'] = df['geometry'].apply(f_lat)\n",
    "df['longitude'] = df['geometry'].apply(f_lon)\n",
    "df['coordinates'] = df['geometry'].apply(f_coords)\n",
    "\n",
    "print(df[['lattitude', 'longitude', 'coordinates']])"
   ]
  }
 ],
 "metadata": {
  "kernelspec": {
   "display_name": "Python 3",
   "language": "python",
   "name": "python3"
  },
  "language_info": {
   "codemirror_mode": {
    "name": "ipython",
    "version": 3
   },
   "file_extension": ".py",
   "mimetype": "text/x-python",
   "name": "python",
   "nbconvert_exporter": "python",
   "pygments_lexer": "ipython3",
   "version": "3.7.4"
  }
 },
 "nbformat": 4,
 "nbformat_minor": 2
}
