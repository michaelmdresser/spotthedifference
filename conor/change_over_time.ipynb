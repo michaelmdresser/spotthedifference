{
 "cells": [
  {
   "cell_type": "code",
   "execution_count": 1,
   "metadata": {},
   "outputs": [],
   "source": [
    "# assume we are starting with geojson file already filtered to our area of interest\n",
    "# this file should cover the entire desired time span\n",
    "\n",
    "# import pandas as pd\n",
    "import geopandas as gpd\n",
    "import datetime as dt\n",
    "\n",
    "def get_summary_statistics(file, interval):\n",
    "    df = gpd.read_file(file)\n",
    "    df['timestamp_dt'] = df[\"timestamp\"].apply(lambda x: dt.datetime.strptime(x, \"%Y-%m-%dT%H:%M:%S\"))\n",
    "    \n",
    "    df_departures = df.loc[df[\"detect_type\"] == \"Departure\"]\n",
    "    departures_by_month = df_departures.groupby([\n",
    "        df_departures[\"timestamp_dt\"].apply(lambda x: x.year),\n",
    "        df_departures[\"timestamp_dt\"].apply(lambda x: x.month)])[\"detect_type\"].count()\n",
    "    \n",
    "    df_arrivals = df.loc[df[\"detect_type\"] == \"Arrival\"]\n",
    "    arrivals_by_month = df_arrivals.groupby([\n",
    "        df_arrivals[\"timestamp_dt\"].apply(lambda x: x.year),\n",
    "        df_arrivals[\"timestamp_dt\"].apply(lambda x: x.month)])[\"detect_type\"].count()\n",
    "\n",
    "    ax = [departures_by_month, arrivals_by_month].plot(figsize=(15,8))\n",
    "    ax.set_title(\"Graph of 'departure' type changes on a montly basis\")\n",
    "    ax.set_xlabel(\"Month of image collect\")\n",
    "    ax.set_ylabel(\"Number of departures\")\n",
    "\n",
    "    "
   ]
  },
  {
   "cell_type": "code",
   "execution_count": 2,
   "metadata": {},
   "outputs": [
    {
     "ename": "AttributeError",
     "evalue": "'list' object has no attribute 'plot'",
     "output_type": "error",
     "traceback": [
      "\u001b[0;31m---------------------------------------------------------------------------\u001b[0m",
      "\u001b[0;31mAttributeError\u001b[0m                            Traceback (most recent call last)",
      "\u001b[0;32m<ipython-input-2-b079cb0f7940>\u001b[0m in \u001b[0;36m<module>\u001b[0;34m\u001b[0m\n\u001b[0;32m----> 1\u001b[0;31m \u001b[0mget_summary_statistics\u001b[0m\u001b[0;34m(\u001b[0m\u001b[0;34m'/home/conor/Projects/D4D/connor_2020-02-10T13_39_00-07_00.geojson'\u001b[0m\u001b[0;34m,\u001b[0m \u001b[0;36m0\u001b[0m\u001b[0;34m)\u001b[0m\u001b[0;34m\u001b[0m\u001b[0;34m\u001b[0m\u001b[0m\n\u001b[0m",
      "\u001b[0;32m<ipython-input-1-7a73e7308cfd>\u001b[0m in \u001b[0;36mget_summary_statistics\u001b[0;34m(file, interval)\u001b[0m\n\u001b[1;32m     20\u001b[0m         df_arrivals[\"timestamp_dt\"].apply(lambda x: x.month)])[\"detect_type\"].count()\n\u001b[1;32m     21\u001b[0m \u001b[0;34m\u001b[0m\u001b[0m\n\u001b[0;32m---> 22\u001b[0;31m     \u001b[0max\u001b[0m \u001b[0;34m=\u001b[0m \u001b[0;34m[\u001b[0m\u001b[0mdepartures_by_month\u001b[0m\u001b[0;34m,\u001b[0m \u001b[0marrivals_by_month\u001b[0m\u001b[0;34m]\u001b[0m\u001b[0;34m.\u001b[0m\u001b[0mplot\u001b[0m\u001b[0;34m(\u001b[0m\u001b[0mfigsize\u001b[0m\u001b[0;34m=\u001b[0m\u001b[0;34m(\u001b[0m\u001b[0;36m15\u001b[0m\u001b[0;34m,\u001b[0m\u001b[0;36m8\u001b[0m\u001b[0;34m)\u001b[0m\u001b[0;34m)\u001b[0m\u001b[0;34m\u001b[0m\u001b[0;34m\u001b[0m\u001b[0m\n\u001b[0m\u001b[1;32m     23\u001b[0m     \u001b[0max\u001b[0m\u001b[0;34m.\u001b[0m\u001b[0mset_title\u001b[0m\u001b[0;34m(\u001b[0m\u001b[0;34m\"Graph of 'departure' type changes on a montly basis\"\u001b[0m\u001b[0;34m)\u001b[0m\u001b[0;34m\u001b[0m\u001b[0;34m\u001b[0m\u001b[0m\n\u001b[1;32m     24\u001b[0m     \u001b[0max\u001b[0m\u001b[0;34m.\u001b[0m\u001b[0mset_xlabel\u001b[0m\u001b[0;34m(\u001b[0m\u001b[0;34m\"Month of image collect\"\u001b[0m\u001b[0;34m)\u001b[0m\u001b[0;34m\u001b[0m\u001b[0;34m\u001b[0m\u001b[0m\n",
      "\u001b[0;31mAttributeError\u001b[0m: 'list' object has no attribute 'plot'"
     ]
    }
   ],
   "source": [
    "get_summary_statistics('/home/conor/Projects/D4D/connor_2020-02-10T13_39_00-07_00.geojson', 0)"
   ]
  },
  {
   "cell_type": "code",
   "execution_count": null,
   "metadata": {},
   "outputs": [],
   "source": []
  }
 ],
 "metadata": {
  "kernelspec": {
   "display_name": "Python 3",
   "language": "python",
   "name": "python3"
  },
  "language_info": {
   "codemirror_mode": {
    "name": "ipython",
    "version": 3
   },
   "file_extension": ".py",
   "mimetype": "text/x-python",
   "name": "python",
   "nbconvert_exporter": "python",
   "pygments_lexer": "ipython3",
   "version": "3.7.4"
  }
 },
 "nbformat": 4,
 "nbformat_minor": 2
}
