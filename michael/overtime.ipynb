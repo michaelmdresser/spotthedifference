{
 "cells": [
  {
   "cell_type": "code",
   "execution_count": 1,
   "metadata": {},
   "outputs": [],
   "source": [
    "import geopandas as gpd\n",
    "import matplotlib.pyplot as plt\n",
    "import datetime"
   ]
  },
  {
   "cell_type": "code",
   "execution_count": 2,
   "metadata": {},
   "outputs": [],
   "source": [
    "file = \"/home/delta/devel/spotthedifference/michael/data/connor_2020-02-10T13_39_00-07_00.geojson\""
   ]
  },
  {
   "cell_type": "code",
   "execution_count": 3,
   "metadata": {},
   "outputs": [],
   "source": [
    "df = gpd.read_file(file)"
   ]
  },
  {
   "cell_type": "code",
   "execution_count": 4,
   "metadata": {},
   "outputs": [
    {
     "data": {
      "text/html": [
       "<div>\n",
       "<style scoped>\n",
       "    .dataframe tbody tr th:only-of-type {\n",
       "        vertical-align: middle;\n",
       "    }\n",
       "\n",
       "    .dataframe tbody tr th {\n",
       "        vertical-align: top;\n",
       "    }\n",
       "\n",
       "    .dataframe thead th {\n",
       "        text-align: right;\n",
       "    }\n",
       "</style>\n",
       "<table border=\"1\" class=\"dataframe\">\n",
       "  <thead>\n",
       "    <tr style=\"text-align: right;\">\n",
       "      <th></th>\n",
       "      <th>algorithm</th>\n",
       "      <th>background_maximum_return</th>\n",
       "      <th>background_mean_return</th>\n",
       "      <th>background_minimum_return</th>\n",
       "      <th>centroid_lat</th>\n",
       "      <th>centroid_lon</th>\n",
       "      <th>change_area</th>\n",
       "      <th>compactness</th>\n",
       "      <th>detect_strength</th>\n",
       "      <th>detect_type</th>\n",
       "      <th>...</th>\n",
       "      <th>shape_extent_minor</th>\n",
       "      <th>shape_orientation</th>\n",
       "      <th>target_maximum_return</th>\n",
       "      <th>target_mean_return</th>\n",
       "      <th>target_minimum_return</th>\n",
       "      <th>target_total_return</th>\n",
       "      <th>timestamp</th>\n",
       "      <th>weighted_centroid_lat</th>\n",
       "      <th>weighted_centroid_lon</th>\n",
       "      <th>geometry</th>\n",
       "    </tr>\n",
       "  </thead>\n",
       "  <tbody>\n",
       "    <tr>\n",
       "      <th>0</th>\n",
       "      <td>ACD-29August2019</td>\n",
       "      <td>7.82</td>\n",
       "      <td>3.15</td>\n",
       "      <td>0.02</td>\n",
       "      <td>33.066993</td>\n",
       "      <td>41.831021</td>\n",
       "      <td>329.63</td>\n",
       "      <td>1.0846</td>\n",
       "      <td>-26.4</td>\n",
       "      <td>Departure</td>\n",
       "      <td>...</td>\n",
       "      <td>18.09</td>\n",
       "      <td>56.5993</td>\n",
       "      <td>1873.72</td>\n",
       "      <td>905.93</td>\n",
       "      <td>101.19</td>\n",
       "      <td>6341.48</td>\n",
       "      <td>2018-11-06T00:00:00</td>\n",
       "      <td>33.067041</td>\n",
       "      <td>41.831040</td>\n",
       "      <td>POINT Z (41.83098 33.06712 0.00000)</td>\n",
       "    </tr>\n",
       "    <tr>\n",
       "      <th>1</th>\n",
       "      <td>ACD-29August2019</td>\n",
       "      <td>23.01</td>\n",
       "      <td>8.48</td>\n",
       "      <td>1.59</td>\n",
       "      <td>33.065138</td>\n",
       "      <td>41.833288</td>\n",
       "      <td>423.81</td>\n",
       "      <td>1.0200</td>\n",
       "      <td>-25.4</td>\n",
       "      <td>Departure</td>\n",
       "      <td>...</td>\n",
       "      <td>19.94</td>\n",
       "      <td>58.2825</td>\n",
       "      <td>2993.64</td>\n",
       "      <td>980.92</td>\n",
       "      <td>49.94</td>\n",
       "      <td>8828.28</td>\n",
       "      <td>2018-11-06T00:00:00</td>\n",
       "      <td>33.065097</td>\n",
       "      <td>41.833273</td>\n",
       "      <td>POINT Z (41.83325 33.06526 0.00000)</td>\n",
       "    </tr>\n",
       "  </tbody>\n",
       "</table>\n",
       "<p>2 rows × 32 columns</p>\n",
       "</div>"
      ],
      "text/plain": [
       "          algorithm  background_maximum_return  background_mean_return  \\\n",
       "0  ACD-29August2019                       7.82                    3.15   \n",
       "1  ACD-29August2019                      23.01                    8.48   \n",
       "\n",
       "   background_minimum_return  centroid_lat  centroid_lon  change_area  \\\n",
       "0                       0.02     33.066993     41.831021       329.63   \n",
       "1                       1.59     33.065138     41.833288       423.81   \n",
       "\n",
       "   compactness  detect_strength detect_type  ...  shape_extent_minor  \\\n",
       "0       1.0846            -26.4   Departure  ...               18.09   \n",
       "1       1.0200            -25.4   Departure  ...               19.94   \n",
       "\n",
       "  shape_orientation target_maximum_return  target_mean_return  \\\n",
       "0           56.5993               1873.72              905.93   \n",
       "1           58.2825               2993.64              980.92   \n",
       "\n",
       "   target_minimum_return target_total_return            timestamp  \\\n",
       "0                 101.19             6341.48  2018-11-06T00:00:00   \n",
       "1                  49.94             8828.28  2018-11-06T00:00:00   \n",
       "\n",
       "   weighted_centroid_lat weighted_centroid_lon  \\\n",
       "0              33.067041             41.831040   \n",
       "1              33.065097             41.833273   \n",
       "\n",
       "                              geometry  \n",
       "0  POINT Z (41.83098 33.06712 0.00000)  \n",
       "1  POINT Z (41.83325 33.06526 0.00000)  \n",
       "\n",
       "[2 rows x 32 columns]"
      ]
     },
     "execution_count": 4,
     "metadata": {},
     "output_type": "execute_result"
    }
   ],
   "source": [
    "df.head(2)"
   ]
  },
  {
   "cell_type": "code",
   "execution_count": 5,
   "metadata": {},
   "outputs": [
    {
     "name": "stdout",
     "output_type": "stream",
     "text": [
      "Index(['algorithm', 'background_maximum_return', 'background_mean_return',\n",
      "       'background_minimum_return', 'centroid_lat', 'centroid_lon',\n",
      "       'change_area', 'compactness', 'detect_strength', 'detect_type',\n",
      "       'eccentricity', 'iids', 'name', 'perimeter', 'pixel_count',\n",
      "       'processing_type', 'ref_azimuth_angle', 'ref_graze_angle',\n",
      "       'return_units', 'sec_azimuth_angle', 'sec_graze_angle',\n",
      "       'shape_extent_major', 'shape_extent_minor', 'shape_orientation',\n",
      "       'target_maximum_return', 'target_mean_return', 'target_minimum_return',\n",
      "       'target_total_return', 'timestamp', 'weighted_centroid_lat',\n",
      "       'weighted_centroid_lon', 'geometry'],\n",
      "      dtype='object')\n"
     ]
    }
   ],
   "source": [
    "print(df.columns)"
   ]
  },
  {
   "cell_type": "code",
   "execution_count": 6,
   "metadata": {},
   "outputs": [],
   "source": [
    "df[\"timestamp_dt\"] = df[\"timestamp\"].apply(lambda x: datetime.datetime.strptime(x, \"%Y-%m-%dT%H:%M:%S\"))"
   ]
  },
  {
   "cell_type": "code",
   "execution_count": 7,
   "metadata": {},
   "outputs": [
    {
     "data": {
      "text/plain": [
       "0   2018-11-06\n",
       "1   2018-11-06\n",
       "2   2018-11-12\n",
       "3   2018-11-12\n",
       "4   2018-11-17\n",
       "5   2018-11-17\n",
       "6   2018-11-17\n",
       "7   2018-11-29\n",
       "8   2018-11-30\n",
       "9   2018-12-05\n",
       "Name: timestamp_dt, dtype: datetime64[ns]"
      ]
     },
     "execution_count": 7,
     "metadata": {},
     "output_type": "execute_result"
    }
   ],
   "source": [
    "df[\"timestamp_dt\"].head(10)"
   ]
  },
  {
   "cell_type": "code",
   "execution_count": 8,
   "metadata": {},
   "outputs": [
    {
     "data": {
      "text/html": [
       "<div>\n",
       "<style scoped>\n",
       "    .dataframe tbody tr th:only-of-type {\n",
       "        vertical-align: middle;\n",
       "    }\n",
       "\n",
       "    .dataframe tbody tr th {\n",
       "        vertical-align: top;\n",
       "    }\n",
       "\n",
       "    .dataframe thead th {\n",
       "        text-align: right;\n",
       "    }\n",
       "</style>\n",
       "<table border=\"1\" class=\"dataframe\">\n",
       "  <thead>\n",
       "    <tr style=\"text-align: right;\">\n",
       "      <th></th>\n",
       "      <th>algorithm</th>\n",
       "      <th>background_maximum_return</th>\n",
       "      <th>background_mean_return</th>\n",
       "      <th>background_minimum_return</th>\n",
       "      <th>centroid_lat</th>\n",
       "      <th>centroid_lon</th>\n",
       "      <th>change_area</th>\n",
       "      <th>compactness</th>\n",
       "      <th>detect_strength</th>\n",
       "      <th>detect_type</th>\n",
       "      <th>...</th>\n",
       "      <th>shape_orientation</th>\n",
       "      <th>target_maximum_return</th>\n",
       "      <th>target_mean_return</th>\n",
       "      <th>target_minimum_return</th>\n",
       "      <th>target_total_return</th>\n",
       "      <th>timestamp</th>\n",
       "      <th>weighted_centroid_lat</th>\n",
       "      <th>weighted_centroid_lon</th>\n",
       "      <th>geometry</th>\n",
       "      <th>timestamp_dt</th>\n",
       "    </tr>\n",
       "  </thead>\n",
       "  <tbody>\n",
       "    <tr>\n",
       "      <th>0</th>\n",
       "      <td>ACD-29August2019</td>\n",
       "      <td>7.82</td>\n",
       "      <td>3.15</td>\n",
       "      <td>0.02</td>\n",
       "      <td>33.066993</td>\n",
       "      <td>41.831021</td>\n",
       "      <td>329.63</td>\n",
       "      <td>1.0846</td>\n",
       "      <td>-26.4</td>\n",
       "      <td>Departure</td>\n",
       "      <td>...</td>\n",
       "      <td>56.5993</td>\n",
       "      <td>1873.72</td>\n",
       "      <td>905.93</td>\n",
       "      <td>101.19</td>\n",
       "      <td>6341.48</td>\n",
       "      <td>2018-11-06T00:00:00</td>\n",
       "      <td>33.067041</td>\n",
       "      <td>41.831040</td>\n",
       "      <td>POINT Z (41.83098 33.06712 0.00000)</td>\n",
       "      <td>2018-11-06</td>\n",
       "    </tr>\n",
       "    <tr>\n",
       "      <th>1</th>\n",
       "      <td>ACD-29August2019</td>\n",
       "      <td>23.01</td>\n",
       "      <td>8.48</td>\n",
       "      <td>1.59</td>\n",
       "      <td>33.065138</td>\n",
       "      <td>41.833288</td>\n",
       "      <td>423.81</td>\n",
       "      <td>1.0200</td>\n",
       "      <td>-25.4</td>\n",
       "      <td>Departure</td>\n",
       "      <td>...</td>\n",
       "      <td>58.2825</td>\n",
       "      <td>2993.64</td>\n",
       "      <td>980.92</td>\n",
       "      <td>49.94</td>\n",
       "      <td>8828.28</td>\n",
       "      <td>2018-11-06T00:00:00</td>\n",
       "      <td>33.065097</td>\n",
       "      <td>41.833273</td>\n",
       "      <td>POINT Z (41.83325 33.06526 0.00000)</td>\n",
       "      <td>2018-11-06</td>\n",
       "    </tr>\n",
       "  </tbody>\n",
       "</table>\n",
       "<p>2 rows × 33 columns</p>\n",
       "</div>"
      ],
      "text/plain": [
       "          algorithm  background_maximum_return  background_mean_return  \\\n",
       "0  ACD-29August2019                       7.82                    3.15   \n",
       "1  ACD-29August2019                      23.01                    8.48   \n",
       "\n",
       "   background_minimum_return  centroid_lat  centroid_lon  change_area  \\\n",
       "0                       0.02     33.066993     41.831021       329.63   \n",
       "1                       1.59     33.065138     41.833288       423.81   \n",
       "\n",
       "   compactness  detect_strength detect_type  ...  shape_orientation  \\\n",
       "0       1.0846            -26.4   Departure  ...            56.5993   \n",
       "1       1.0200            -25.4   Departure  ...            58.2825   \n",
       "\n",
       "  target_maximum_return target_mean_return  target_minimum_return  \\\n",
       "0               1873.72             905.93                 101.19   \n",
       "1               2993.64             980.92                  49.94   \n",
       "\n",
       "   target_total_return            timestamp  weighted_centroid_lat  \\\n",
       "0              6341.48  2018-11-06T00:00:00              33.067041   \n",
       "1              8828.28  2018-11-06T00:00:00              33.065097   \n",
       "\n",
       "   weighted_centroid_lon                             geometry  timestamp_dt  \n",
       "0              41.831040  POINT Z (41.83098 33.06712 0.00000)    2018-11-06  \n",
       "1              41.833273  POINT Z (41.83325 33.06526 0.00000)    2018-11-06  \n",
       "\n",
       "[2 rows x 33 columns]"
      ]
     },
     "execution_count": 8,
     "metadata": {},
     "output_type": "execute_result"
    }
   ],
   "source": [
    "df.loc[df[\"detect_type\"] == \"Departure\"].head(2)"
   ]
  },
  {
   "cell_type": "code",
   "execution_count": 14,
   "metadata": {},
   "outputs": [
    {
     "data": {
      "text/plain": [
       "Text(0, 0.5, 'Number of departures')"
      ]
     },
     "execution_count": 14,
     "metadata": {},
     "output_type": "execute_result"
    },
    {
     "data": {
      "image/png": "[encoded data removed]",
      "text/plain": [
       "<Figure size 720x504 with 1 Axes>"
      ]
     },
     "metadata": {
      "needs_background": "light"
     },
     "output_type": "display_data"
    }
   ],
   "source": [
    "df_departures = df.loc[df[\"detect_type\"] == \"Departure\"]\n",
    "departures_by_month = df_departures.groupby([\n",
    "    df_departures[\"timestamp_dt\"].apply(lambda x: x.year),\n",
    "    df_departures[\"timestamp_dt\"].apply(lambda x: x.month)])[\"detect_type\"].count()\n",
    "\n",
    "df_arrivals = df.loc[df[\"detect_type\"] == \"Arrival\"]\n",
    "arrivals_by_month = df_arrivals.groupby([\n",
    "    df_arrivals[\"timestamp_dt\"].apply(lambda x: x.year),\n",
    "    df_arrivals[\"timestamp_dt\"].apply(lambda x: x.month)])[\"detect_type\"].count()\n",
    "\n",
    "fig, ax = plt.subplots(figsize=(10,7))\n",
    "# ax.plot(departures_by_month.index, departures_by_month, label=\"departures\")\n",
    "# ax.plot(arrivals_by_month, label=\"arrivals\")\n",
    "\n",
    "departures_by_month.plot(label=\"departures\", ax=ax, color=\"red\")\n",
    "arrivals_by_month.plot(label=\"arrivals\", ax=ax, color=\"blue\")\n",
    "ax.legend()\n",
    "ax.set_title(\"Graph of 'departure' and 'arrival' type changes on a montly basis\")\n",
    "ax.set_xlabel(\"Month of image collect\")\n",
    "ax.set_ylabel(\"Number of departures\")"
   ]
  },
  {
   "cell_type": "code",
   "execution_count": null,
   "metadata": {},
   "outputs": [],
   "source": [
    "departures_by_date = df_departures.groupby(df_departures[\"timestamp_dt\"])[\"detect_type\"].count()\n",
    "\n",
    "ax = departures_by_date.plot(figsize=(10,7))\n",
    "ax.set_title(\"Graph of 'departure' type changes on a per-collect-date basis\")\n",
    "ax.set_xlabel(\"Date of image collect\")\n",
    "ax.set_ylabel(\"Number of departures\")"
   ]
  }
 ],
 "metadata": {
  "kernelspec": {
   "display_name": "Python 3",
   "language": "python",
   "name": "python3"
  },
  "language_info": {
   "codemirror_mode": {
    "name": "ipython",
    "version": 3
   },
   "file_extension": ".py",
   "mimetype": "text/x-python",
   "name": "python",
   "nbconvert_exporter": "python",
   "pygments_lexer": "ipython3",
   "version": "3.8.1"
  }
 },
 "nbformat": 4,
 "nbformat_minor": 2
}
