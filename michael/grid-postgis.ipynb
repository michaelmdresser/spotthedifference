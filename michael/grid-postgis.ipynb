{
 "cells": [
  {
   "cell_type": "code",
   "execution_count": 1,
   "metadata": {},
   "outputs": [],
   "source": [
    "import psycopg2\n",
    "import geopandas as gpd\n",
    "from collections import namedtuple\n",
    "from psycopg2 import sql"
   ]
  },
  {
   "cell_type": "code",
   "execution_count": 2,
   "metadata": {},
   "outputs": [],
   "source": [
    "pwfile = open(\"./postgis/pwfile\")\n",
    "pw = pwfile.readline().strip()\n",
    "pwfile.close()\n",
    "\n",
    "# had to set db auth to scram because md5 bad\n",
    "connection = psycopg2.connect(host='192.168.1.111', port=5432, dbname='d4d', user='d4d', password='%s' % pw)\n",
    "cur = connection.cursor()"
   ]
  },
  {
   "cell_type": "code",
   "execution_count": 3,
   "metadata": {},
   "outputs": [
    {
     "data": {
      "text/plain": [
       "[('ogc_fid',),\n",
       " ('shape_orientation',),\n",
       " ('detect_type',),\n",
       " ('iids',),\n",
       " ('change_area',),\n",
       " ('weighted_centroid_lat',),\n",
       " ('target_minimum_return',),\n",
       " ('background_minimum_return',),\n",
       " ('ref_graze_angle',),\n",
       " ('processing_type',),\n",
       " ('target_maximum_return',),\n",
       " ('sec_azimuth_angle',),\n",
       " ('ref_azimuth_angle',),\n",
       " ('shape_extent_minor',),\n",
       " ('weighted_centroid_lon',),\n",
       " ('background_maximum_return',),\n",
       " ('shape_extent_major',),\n",
       " ('perimeter',),\n",
       " ('pixel_count',),\n",
       " ('timestamp',),\n",
       " ('centroid_lat',),\n",
       " ('target_total_return',),\n",
       " ('detect_strength',),\n",
       " ('eccentricity',),\n",
       " ('centroid_lon',),\n",
       " ('return_units',),\n",
       " ('name',),\n",
       " ('algorithm',),\n",
       " ('target_mean_return',),\n",
       " ('sec_graze_angle',),\n",
       " ('background_mean_return',),\n",
       " ('compactness',),\n",
       " ('wkb_geometry',)]"
      ]
     },
     "execution_count": 3,
     "metadata": {},
     "output_type": "execute_result"
    }
   ],
   "source": [
    "cur.execute(\"SELECT column_name FROM information_schema.columns WHERE TABLE_NAME='iraq_points'\")\n",
    "cur.fetchall()"
   ]
  },
  {
   "cell_type": "code",
   "execution_count": 4,
   "metadata": {},
   "outputs": [],
   "source": [
    "cur.execute(\"SELECT MAX(ST_X(wkb_geometry)) AS max_long, MAX(ST_Y(wkb_geometry)) AS max_lat FROM iraq_points\")\n",
    "max_long, max_lat = cur.fetchone()\n",
    "cur.execute(\"SELECT MIN(ST_X(wkb_geometry)) AS min_long, MIN(ST_Y(wkb_geometry)) AS min_lat FROM iraq_points\")\n",
    "min_long, min_lat = cur.fetchone()"
   ]
  },
  {
   "cell_type": "code",
   "execution_count": 5,
   "metadata": {},
   "outputs": [],
   "source": [
    "Point = namedtuple('Point', ['lat', 'long'])\n",
    "Rectangle = namedtuple('Rectangle', ['top_left', 'bottom_left', 'bottom_right', 'top_right'])\n",
    "\n",
    "def make_subrect(top_left, lat_step, long_step):\n",
    "    top_right = Point(lat=top_left.lat + lat_step, long=top_left.long)\n",
    "    bottom_left = Point(lat=top_left.lat, long=top_left.long + long_step)\n",
    "    bottom_right = Point(lat=top_left.lat + lat_step, long=top_left.long + long_step)\n",
    "    \n",
    "    return Rectangle(top_left=top_left, bottom_left=bottom_left, bottom_right=bottom_right, top_right=top_right)\n",
    "\n",
    "def make_subrects(min_lat, min_long, max_lat, max_long, lat_count=5, long_count=5):\n",
    "    lat_step = (max_lat - min_lat) / lat_count\n",
    "    long_step = (max_long - min_long) / long_count\n",
    "    \n",
    "    subrects = []\n",
    "    \n",
    "    for lat_row in range(lat_count):\n",
    "        for long_col in range(long_count):\n",
    "            top_left = Point(lat=min_lat + (lat_row*lat_step), long=min_long + (long_col * long_step))\n",
    "            subrects.append(make_subrect(top_left, lat_step, long_step))\n",
    "    \n",
    "    return subrects\n",
    "\n",
    "def postgis_polygon_from_rect(rect):\n",
    "    return \"\"\"\n",
    "    ST_MakePolygon( ST_GeomFromText('LINESTRING({tl_lat} {tl_long}, {bl_lat} {bl_long}, {br_lat} {br_long}, {tr_lat} {tr_long}, {tl_lat} {tl_long})', 4326))\"\"\".strip(\n",
    "    ).format(\n",
    "        tl_lat=rect.top_left.lat,\n",
    "        tl_long=rect.top_left.long,\n",
    "        bl_lat=rect.bottom_left.lat,\n",
    "        bl_long=rect.bottom_left.long,\n",
    "        br_lat=rect.bottom_right.lat,\n",
    "        br_long=rect.bottom_right.long,\n",
    "        tr_lat=rect.top_right.lat,\n",
    "        tr_long=rect.top_right.long,\n",
    "    )"
   ]
  },
  {
   "cell_type": "code",
   "execution_count": 6,
   "metadata": {},
   "outputs": [
    {
     "data": {
      "text/plain": [
       "25"
      ]
     },
     "execution_count": 6,
     "metadata": {},
     "output_type": "execute_result"
    }
   ],
   "source": [
    "rects = make_subrects(min_lat, min_long, max_lat, max_long)\n",
    "len(rects)"
   ]
  },
  {
   "cell_type": "code",
   "execution_count": 7,
   "metadata": {},
   "outputs": [],
   "source": [
    "choice = rects[12]"
   ]
  },
  {
   "cell_type": "code",
   "execution_count": 8,
   "metadata": {},
   "outputs": [
    {
     "name": "stdout",
     "output_type": "stream",
     "text": [
      "SELECT AVG(eccentricity) FROM iraq_points WHERE ST_Within(ST_FlipCoordinates(wkb_geometry), ST_MakePolygon( ST_GeomFromText('LINESTRING(32.25302488 42.61423528, 32.25302488 45.59361672, 34.59259722 45.59361672, 34.59259722 42.61423528, 32.25302488 42.61423528)', 4326)))\n"
     ]
    },
    {
     "data": {
      "text/plain": [
       "[(0.825022560969856,)]"
      ]
     },
     "execution_count": 8,
     "metadata": {},
     "output_type": "execute_result"
    }
   ],
   "source": [
    "query = sql.SQL(\"\"\"\n",
    "SELECT AVG(eccentricity) FROM iraq_points WHERE ST_Within(ST_FlipCoordinates(wkb_geometry), {polygon})\n",
    "\"\"\".strip().format(\n",
    "    polygon= postgis_polygon_from_rect(choice)\n",
    "))\n",
    "print(query.as_string(connection))\n",
    "cur.execute(query)\n",
    "cur.fetchall()"
   ]
  }
 ],
 "metadata": {
  "kernelspec": {
   "display_name": "Python 3",
   "language": "python",
   "name": "python3"
  },
  "language_info": {
   "codemirror_mode": {
    "name": "ipython",
    "version": 3
   },
   "file_extension": ".py",
   "mimetype": "text/x-python",
   "name": "python",
   "nbconvert_exporter": "python",
   "pygments_lexer": "ipython3",
   "version": "3.8.1"
  }
 },
 "nbformat": 4,
 "nbformat_minor": 2
}
